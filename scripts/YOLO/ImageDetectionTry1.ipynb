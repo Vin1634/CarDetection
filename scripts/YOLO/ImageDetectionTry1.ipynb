{
 "cells": [
  {
   "cell_type": "code",
   "execution_count": 1,
   "metadata": {},
   "outputs": [
    {
     "name": "stdout",
     "output_type": "stream",
     "text": [
      "c:\\Users\\felix\\Documents\\My_Python\n"
     ]
    }
   ],
   "source": [
    "import os\n",
    "HOME = os.getcwd()\n",
    "print(HOME)\n",
    "os.environ['KMP_DUPLICATE_LIB_OK'] = 'True'"
   ]
  },
  {
   "cell_type": "code",
   "execution_count": 2,
   "metadata": {},
   "outputs": [
    {
     "name": "stdout",
     "output_type": "stream",
     "text": [
      "True\n"
     ]
    }
   ],
   "source": [
    "!python -c \"import torch; print(torch.cuda.is_available())\""
   ]
  },
  {
   "cell_type": "code",
   "execution_count": 4,
   "metadata": {},
   "outputs": [
    {
     "name": "stderr",
     "output_type": "stream",
     "text": [
      "<>:10: SyntaxWarning: invalid escape sequence '\\y'\n",
      "<>:10: SyntaxWarning: invalid escape sequence '\\y'\n",
      "C:\\Users\\felix\\AppData\\Local\\Temp\\ipykernel_12336\\3932436813.py:10: SyntaxWarning: invalid escape sequence '\\y'\n",
      "  command = f\"python .\\yolov9\\detect.py --weights {weights_path} --conf {conf_threshold} --source {source_image_path} --device {device}\"\n",
      "\u001b[34m\u001b[1mdetect: \u001b[0mweights=['C:\\\\Users\\\\felix\\\\Documents\\\\My_Python\\\\yolov9\\\\runs\\\\train\\\\exp15\\\\weights\\\\best.pt'], source=c:\\Users\\felix\\Documents\\My_Python\\data\\DJI_0545.jpg, data=yolov9\\data\\coco128.yaml, imgsz=[640, 640], conf_thres=0.1, iou_thres=0.45, max_det=1000, device=0, view_img=False, save_txt=False, save_conf=False, save_crop=False, nosave=False, classes=None, agnostic_nms=False, augment=False, visualize=False, update=False, project=yolov9\\runs\\detect, name=exp, exist_ok=False, line_thickness=3, hide_labels=False, hide_conf=False, half=False, dnn=False, vid_stride=1\n",
      "YOLOv5  1e33dbb Python-3.12.4 torch-2.4.1 CUDA:0 (NVIDIA GeForce GTX 1080 Ti, 11264MiB)\n",
      "\n",
      "c:\\Users\\felix\\Documents\\My_Python\\yolov9\\models\\experimental.py:75: FutureWarning: You are using `torch.load` with `weights_only=False` (the current default value), which uses the default pickle module implicitly. It is possible to construct malicious pickle data which will execute arbitrary code during unpickling (See https://github.com/pytorch/pytorch/blob/main/SECURITY.md#untrusted-models for more details). In a future release, the default value for `weights_only` will be flipped to `True`. This limits the functions that could be executed during unpickling. Arbitrary objects will no longer be allowed to be loaded via this mode unless they are explicitly allowlisted by the user via `torch.serialization.add_safe_globals`. We recommend you start setting `weights_only=True` for any use case where you don't have full control of the loaded file. Please open an issue on GitHub for any issues related to this experimental feature.\n",
      "  ckpt = torch.load(attempt_download(w), map_location='cpu')  # load\n",
      "Fusing layers... \n",
      "gelan-c summary: 467 layers, 25411731 parameters, 0 gradients, 102.5 GFLOPs\n",
      "image 1/1 C:\\Users\\felix\\Documents\\My_Python\\data\\DJI_0545.JPG: 448x640 42 cars, 45.0ms\n",
      "Speed: 0.0ms pre-process, 45.0ms inference, 86.8ms NMS per image at shape (1, 3, 640, 640)\n",
      "Results saved to \u001b[1myolov9\\runs\\detect\\exp19\u001b[0m\n"
     ]
    }
   ],
   "source": [
    "# Define paths to weights and data\n",
    "weights_path = r\"C:\\Users\\felix\\Documents\\My_Python\\yolov9\\runs\\train\\exp15\\weights\\best.pt\"\n",
    "source_image_path = os.path.join(os.getcwd(), 'data', 'DJI_0545.jpg')\n",
    "\n",
    "# Define confidence level and device (GPU: 0, CPU: 'cpu')\n",
    "conf_threshold = 0.1\n",
    "device = 0  # Use 'cpu' if you don't want to use GPU\n",
    "\n",
    "# Construct the shell command for detection\n",
    "command = f\"python .\\yolov9\\detect.py --weights {weights_path} --conf {conf_threshold} --source {source_image_path} --device {device}\"\n",
    "\n",
    "# Run the command in the Jupyter notebook\n",
    "!{command}"
   ]
  },
  {
   "cell_type": "code",
   "execution_count": 2,
   "metadata": {},
   "outputs": [
    {
     "name": "stderr",
     "output_type": "stream",
     "text": [
      "<>:10: SyntaxWarning: invalid escape sequence '\\y'\n",
      "<>:10: SyntaxWarning: invalid escape sequence '\\y'\n",
      "C:\\Users\\felix\\AppData\\Local\\Temp\\ipykernel_10552\\1817499351.py:10: SyntaxWarning: invalid escape sequence '\\y'\n",
      "  command = f\"python .\\yolov9\\detect.py --weights {weights_path} --conf {conf_threshold} --source {source_image_path} --device {device}\"\n",
      "\u001b[34m\u001b[1mdetect: \u001b[0mweights=['C:\\\\Users\\\\felix\\\\Documents\\\\My_Python\\\\yolov9\\\\runs\\\\train\\\\exp28\\\\weights\\\\best.pt'], source=c:\\Users\\felix\\Documents\\My_Python\\data\\DJI_0041.jpg, data=yolov9\\data\\coco128.yaml, imgsz=[640, 640], conf_thres=0.5, iou_thres=0.45, max_det=1000, device=0, view_img=False, save_txt=False, save_conf=False, save_crop=False, nosave=False, classes=None, agnostic_nms=False, augment=False, visualize=False, update=False, project=yolov9\\runs\\detect, name=exp, exist_ok=False, line_thickness=3, hide_labels=False, hide_conf=False, half=False, dnn=False, vid_stride=1\n",
      "YOLOv5  1e33dbb Python-3.12.4 torch-2.4.1 CUDA:0 (NVIDIA GeForce GTX 1080 Ti, 11264MiB)\n",
      "\n",
      "c:\\Users\\felix\\Documents\\My_Python\\yolov9\\models\\experimental.py:75: FutureWarning: You are using `torch.load` with `weights_only=False` (the current default value), which uses the default pickle module implicitly. It is possible to construct malicious pickle data which will execute arbitrary code during unpickling (See https://github.com/pytorch/pytorch/blob/main/SECURITY.md#untrusted-models for more details). In a future release, the default value for `weights_only` will be flipped to `True`. This limits the functions that could be executed during unpickling. Arbitrary objects will no longer be allowed to be loaded via this mode unless they are explicitly allowlisted by the user via `torch.serialization.add_safe_globals`. We recommend you start setting `weights_only=True` for any use case where you don't have full control of the loaded file. Please open an issue on GitHub for any issues related to this experimental feature.\n",
      "  ckpt = torch.load(attempt_download(w), map_location='cpu')  # load\n",
      "Fusing layers... \n",
      "gelan-c summary: 467 layers, 25411731 parameters, 0 gradients, 102.5 GFLOPs\n",
      "image 1/1 C:\\Users\\felix\\Documents\\My_Python\\data\\DJI_0041.JPG: 448x640 40 cars, 44.5ms\n",
      "Speed: 1.0ms pre-process, 44.5ms inference, 66.4ms NMS per image at shape (1, 3, 640, 640)\n",
      "Results saved to \u001b[1myolov9\\runs\\detect\\exp35\u001b[0m\n"
     ]
    }
   ],
   "source": [
    "# Define paths to weights and data\n",
    "weights_path = r\"C:\\Users\\felix\\Documents\\My_Python\\yolov9\\runs\\train\\exp28\\weights\\best.pt\"\n",
    "source_image_path = os.path.join(os.getcwd(), 'data', 'DJI_0041.jpg')\n",
    "\n",
    "# Define confidence level and device (GPU: 0, CPU: 'cpu')\n",
    "conf_threshold = 0.5\n",
    "device = 0  # Use 'cpu' if you don't want to use GPU\n",
    "\n",
    "# Construct the shell command for detection\n",
    "command = f\"python .\\yolov9\\detect.py --weights {weights_path} --conf {conf_threshold} --source {source_image_path} --device {device}\"\n",
    "\n",
    "# Run the command in the Jupyter notebook\n",
    "!{command}"
   ]
  }
 ],
 "metadata": {
  "kernelspec": {
   "display_name": "base",
   "language": "python",
   "name": "python3"
  },
  "language_info": {
   "codemirror_mode": {
    "name": "ipython",
    "version": 3
   },
   "file_extension": ".py",
   "mimetype": "text/x-python",
   "name": "python",
   "nbconvert_exporter": "python",
   "pygments_lexer": "ipython3",
   "version": "3.12.4"
  }
 },
 "nbformat": 4,
 "nbformat_minor": 2
}
