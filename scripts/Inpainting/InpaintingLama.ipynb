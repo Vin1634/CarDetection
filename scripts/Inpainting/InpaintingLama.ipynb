{
 "cells": [
  {
   "cell_type": "code",
   "execution_count": 1,
   "metadata": {},
   "outputs": [
    {
     "name": "stderr",
     "output_type": "stream",
     "text": [
      "c:\\Users\\felix\\anaconda3\\envs\\p310env\\lib\\site-packages\\tqdm\\auto.py:21: TqdmWarning: IProgress not found. Please update jupyter and ipywidgets. See https://ipywidgets.readthedocs.io/en/stable/user_install.html\n",
      "  from .autonotebook import tqdm as notebook_tqdm\n"
     ]
    }
   ],
   "source": [
    "import pandas as pd\n",
    "import numpy as np\n",
    "import cv2\n",
    "from simple_lama import SimpleLama\n",
    "from PIL import Image"
   ]
  },
  {
   "cell_type": "code",
   "execution_count": 2,
   "metadata": {},
   "outputs": [],
   "source": [
    "import os\n",
    "os.environ[\"KMP_DUPLICATE_LIB_OK\"] = \"TRUE\""
   ]
  },
  {
   "cell_type": "code",
   "execution_count": 3,
   "metadata": {},
   "outputs": [
    {
     "name": "stdout",
     "output_type": "stream",
     "text": [
      "CUDA available: True\n",
      "CUDA version: 12.1\n",
      "Device name: NVIDIA GeForce GTX 1080 Ti\n"
     ]
    }
   ],
   "source": [
    "import torch\n",
    "\n",
    "\n",
    "# Check if CUDA is available\n",
    "print(\"CUDA available:\", torch.cuda.is_available())\n",
    "\n",
    "# Print the CUDA version\n",
    "print(\"CUDA version:\", torch.version.cuda)\n",
    "\n",
    "# Print the device name\n",
    "if torch.cuda.is_available():\n",
    "    print(\"Device name:\", torch.cuda.get_device_name(0))"
   ]
  },
  {
   "cell_type": "code",
   "execution_count": 15,
   "metadata": {},
   "outputs": [],
   "source": [
    "# Folder with images and CSVs\n",
    "# csv folder contains the CSVs with the bounding boxes of moving cars\n",
    "csv_folder = r'C:\\Users\\felix\\Documents\\GitHub\\CarDetection\\testzone\\intersection\\results\\movingcars_csv'\n",
    "# image folder contains the images\n",
    "image_folder = r'C:\\Users\\felix\\Documents\\GitHub\\CarDetection\\testzone\\intersection\\raw_images'\n",
    "# mask folder contains the masks\n",
    "mask_folder = r'C:\\Users\\felix\\Documents\\GitHub\\CarDetection\\testzone\\intersection\\results\\masks'\n",
    "output_folder = r'C:\\Users\\felix\\Documents\\GitHub\\CarDetection\\testzone\\intersection\\results\\inpainted'"
   ]
  },
  {
   "cell_type": "markdown",
   "metadata": {},
   "source": [
    "### Create Masks"
   ]
  },
  {
   "cell_type": "code",
   "execution_count": 14,
   "metadata": {},
   "outputs": [
    {
     "name": "stdout",
     "output_type": "stream",
     "text": [
      "Mask saved: C:\\Users\\felix\\Documents\\GitHub\\CarDetection\\testzone\\intersection\\results\\masks\\DJI_0707_mask_p20.png\n",
      "Mask saved: C:\\Users\\felix\\Documents\\GitHub\\CarDetection\\testzone\\intersection\\results\\masks\\DJI_0708_mask_p20.png\n",
      "Mask saved: C:\\Users\\felix\\Documents\\GitHub\\CarDetection\\testzone\\intersection\\results\\masks\\DJI_0709_mask_p20.png\n",
      "Mask saved: C:\\Users\\felix\\Documents\\GitHub\\CarDetection\\testzone\\intersection\\results\\masks\\DJI_0710_mask_p20.png\n",
      "Mask saved: C:\\Users\\felix\\Documents\\GitHub\\CarDetection\\testzone\\intersection\\results\\masks\\DJI_0711_mask_p20.png\n"
     ]
    }
   ],
   "source": [
    "import os\n",
    "import cv2\n",
    "import numpy as np\n",
    "import pandas as pd\n",
    "\n",
    "\n",
    "\n",
    "# Ensure the mask folder exists\n",
    "os.makedirs(mask_folder, exist_ok=True)\n",
    "\n",
    "# Iterate through all images\n",
    "for image_file in os.listdir(image_folder):\n",
    "    if image_file.lower().endswith((\".jpg\", \".png\")):\n",
    "        image_path = os.path.join(image_folder, image_file)\n",
    "        image_name = os.path.splitext(image_file)[0]  # Without .jpg/.png\n",
    "\n",
    "        # Find the corresponding CSV file\n",
    "        csv_file = os.path.join(csv_folder, f\"movingcar_BB_{image_name}.JPG.csv\")\n",
    "        if not os.path.exists(csv_file):\n",
    "            print(f\"No CSV for {image_file} found, skipping...\")\n",
    "            continue\n",
    "\n",
    "        # Load the image to get the correct mask size\n",
    "        img = cv2.imread(image_path)\n",
    "        height, width, _ = img.shape\n",
    "\n",
    "        # Create a black mask\n",
    "        mask = np.zeros((height, width), dtype=np.uint8)\n",
    "\n",
    "        # Load CSV data\n",
    "        df = pd.read_csv(csv_file)\n",
    "\n",
    "        for _, row in df.iterrows():\n",
    "            x_center, y_center, w, h = int(row[\"x\"]), int(row[\"y\"]), int(row[\"width\"]), int(row[\"height\"])\n",
    "            \n",
    "            # Add padding to the bounding box\n",
    "            padding = 20\n",
    "            w += 2 * padding\n",
    "            h += 2 * padding\n",
    "            \n",
    "            # Convert center coordinates to top-left coordinates\n",
    "            x = x_center - w // 2\n",
    "            y = y_center - h // 2\n",
    "            \n",
    "            # Draw the bounding box as a white rectangle on the mask\n",
    "            cv2.rectangle(mask, (x, y), (x + w, y + h), (255), thickness=-1)\n",
    "\n",
    "        # Save the mask as PNG\n",
    "        mask_path = os.path.join(mask_folder, f\"{image_name}_mask_p{padding}.png\")\n",
    "        cv2.imwrite(mask_path, mask)\n",
    "        print(f\"Mask saved: {mask_path}\")\n"
   ]
  },
  {
   "cell_type": "markdown",
   "metadata": {},
   "source": [
    "### Simple Lama Inpaint "
   ]
  },
  {
   "cell_type": "code",
   "execution_count": 16,
   "metadata": {},
   "outputs": [
    {
     "name": "stderr",
     "output_type": "stream",
     "text": [
      "c:\\Users\\felix\\anaconda3\\envs\\p310env\\lib\\site-packages\\tqdm\\auto.py:21: TqdmWarning: IProgress not found. Please update jupyter and ipywidgets. See https://ipywidgets.readthedocs.io/en/stable/user_install.html\n",
      "  from .autonotebook import tqdm as notebook_tqdm\n"
     ]
    },
    {
     "name": "stdout",
     "output_type": "stream",
     "text": [
      "Using device: cuda\n",
      "Inpainting erfolgreich! Ergebnis gespeichert unter: C:\\Users\\felix\\Documents\\GitHub\\CarDetection\\testzone\\intersection\\results\\inpainted\\DJI_0707_inpainted_p20.JPEG\n",
      "Inpainting erfolgreich! Ergebnis gespeichert unter: C:\\Users\\felix\\Documents\\GitHub\\CarDetection\\testzone\\intersection\\results\\inpainted\\DJI_0708_inpainted_p20.JPEG\n",
      "Inpainting erfolgreich! Ergebnis gespeichert unter: C:\\Users\\felix\\Documents\\GitHub\\CarDetection\\testzone\\intersection\\results\\inpainted\\DJI_0709_inpainted_p20.JPEG\n",
      "Inpainting erfolgreich! Ergebnis gespeichert unter: C:\\Users\\felix\\Documents\\GitHub\\CarDetection\\testzone\\intersection\\results\\inpainted\\DJI_0710_inpainted_p20.JPEG\n",
      "Inpainting erfolgreich! Ergebnis gespeichert unter: C:\\Users\\felix\\Documents\\GitHub\\CarDetection\\testzone\\intersection\\results\\inpainted\\DJI_0711_inpainted_p20.JPEG\n"
     ]
    }
   ],
   "source": [
    "from simple_lama import SimpleLama\n",
    "from PIL import Image\n",
    "import numpy as np\n",
    "import os\n",
    "from PIL import Image, ExifTags\n",
    "\n",
    "\n",
    "padding = 20\n",
    "\n",
    "\n",
    "\n",
    "# Ordner mit den Bildern und Masken\n",
    "#image_folder = r'C:\\Users\\felix\\Documents\\GitHub\\CarDetection\\testzone\\turn\\raw_images'\n",
    "#mask_folder = r'C:\\Users\\felix\\Documents\\GitHub\\CarDetection\\testzone\\z1_turn\\results\\masks'\n",
    "\n",
    "\n",
    "# Stelle sicher, dass der Ausgabe-Ordner existiert\n",
    "os.makedirs(output_folder, exist_ok=True)\n",
    "\n",
    "# SimpleLama initialisieren\n",
    "lama = SimpleLama()\n",
    "\n",
    "# Alle Bilder durchgehen\n",
    "for image_file in os.listdir(image_folder):\n",
    "    if image_file.lower().endswith((\".jpg\", \".png\")):\n",
    "        image_path = os.path.join(image_folder, image_file)\n",
    "        image_name = os.path.splitext(image_file)[0]  # Ohne .jpg/.png\n",
    "\n",
    "        # Check if the image has already been inpainted\n",
    "        output_path = os.path.join(output_folder, f\"{image_name}_inpainted_p{padding}.JPEG\")\n",
    "        if os.path.exists(output_path):\n",
    "            print(f\"Bild {image_file} wurde bereits inpainted, überspringe...\")\n",
    "            continue\n",
    "\n",
    "        # Passende Masken-Datei suchen\n",
    "        mask_file = f\"{image_name}_mask_p{padding}.png\"\n",
    "        mask_path = os.path.join(mask_folder, mask_file)\n",
    "        if not os.path.exists(mask_path):\n",
    "            print(f\"Keine Maske für {image_file} gefunden, überspringe...\")\n",
    "            continue\n",
    "\n",
    "        # Lade das Bild und die Maske\n",
    "        image = Image.open(image_path)\n",
    "        mask = Image.open(mask_path).convert('L')  # In Graustufen umwandeln\n",
    "\n",
    "        # Maske binär machen (0 oder 255)\n",
    "        mask = mask.point(lambda x: 255 if x > 128 else 0)  # Alles über 128 wird 255, sonst 0\n",
    "        mask = mask.convert('1')  # In binäres Format umwandeln\n",
    "\n",
    "        # Debug: Überprüfe, ob Bild & Maske die gleiche Größe haben\n",
    "        assert image.size == mask.size, f\"Fehler: Bildgröße {image.size} != Maskengröße {mask.size}\"\n",
    "\n",
    "        # Inpainting ausführen\n",
    "        result = lama(image, mask)\n",
    "\n",
    "        # Lade das Originalbild mit EXIF-Daten\n",
    "        original_image = Image.open(image_path)\n",
    "        exif_data = original_image.info.get(\"exif\")\n",
    "\n",
    "        # Speichere das inpaintete Bild mit den EXIF-Daten des Originals\n",
    "        output_path = os.path.join(output_folder, f\"{image_name}_inpainted_p{padding}.JPEG\")\n",
    "        result.save(output_path, \"JPEG\", quality=90, optimize=True, exif=exif_data)\n",
    "\n",
    "        # Debug: Überprüfe, ob die Datei gespeichert wurde\n",
    "        assert os.path.exists(output_path), f\"Fehler: Datei wurde nicht gespeichert {output_path}\"\n",
    "\n",
    "        print(f\"Inpainting erfolgreich! Ergebnis gespeichert unter: {output_path}\")\n",
    "\n",
    "#run 10min for 5 images"
   ]
  },
  {
   "cell_type": "markdown",
   "metadata": {},
   "source": [
    "### Inpainting with cv2"
   ]
  },
  {
   "cell_type": "markdown",
   "metadata": {},
   "source": [
    "import os\n",
    "import cv2\n",
    "import numpy as np\n",
    "\n",
    "# Paths to the folders\n",
    "image_folder = r'C:\\Users\\felix\\Documents\\GitHub\\CarDetection\\testzone\\intersection'\n",
    "mask_folder = r'C:\\Users\\felix\\Documents\\GitHub\\CarDetection\\testzone\\intersection\\results\\masks'\n",
    "output_folder = r'C:\\Users\\felix\\Documents\\GitHub\\CarDetection\\testzone\\intersection\\results\\inpainted'\n",
    "\n",
    "# Ensure the output folder exists\n",
    "os.makedirs(output_folder, exist_ok=True)\n",
    "\n",
    "# Iterate through all images\n",
    "for image_file in os.listdir(image_folder):\n",
    "    if image_file.lower().endswith((\".jpg\", \".png\")):\n",
    "        image_path = os.path.join(image_folder, image_file)\n",
    "        image_name = os.path.splitext(image_file)[0]  # Without .jpg/.png\n",
    "\n",
    "        # Check for corresponding mask\n",
    "        mask_file = f\"{image_name}_mask_p20.png\"\n",
    "        mask_path = os.path.join(mask_folder, mask_file)\n",
    "        if not os.path.exists(mask_path):\n",
    "            print(f\"No corresponding mask for {image_file} found, skipping...\")\n",
    "            continue\n",
    "\n",
    "        # Load the damaged image\n",
    "        damaged_img = cv2.imread(image_path)\n",
    "\n",
    "        # Load the mask\n",
    "        mask = cv2.imread(mask_path, cv2.IMREAD_GRAYSCALE)\n",
    "\n",
    "        # Inpaint the image\n",
    "        inpainted_img = cv2.inpaint(damaged_img, mask, inpaintRadius=3, flags=cv2.INPAINT_TELEA)\n",
    "\n",
    "        # Save the inpainted image\n",
    "        output_path = os.path.join(output_folder, f\"{image_name}_inpainted.jpg\")\n",
    "        cv2.imwrite(output_path, inpainted_img)\n",
    "        print(f\"Inpainted image saved: {output_path}\")\n"
   ]
  },
  {
   "cell_type": "markdown",
   "metadata": {},
   "source": [
    "### Check for skipped Images \n",
    "they have to be added to the image folder in order to calculate the orthomosaics with pix4d"
   ]
  },
  {
   "cell_type": "code",
   "execution_count": 7,
   "metadata": {},
   "outputs": [
    {
     "name": "stdout",
     "output_type": "stream",
     "text": [
      "❌ Missing image numbers: [120, 121, 122, 123, 124, 125, 126, 127, 128, 129]\n",
      "📂 Expected missing files: ['DJI_0120.JPG', 'DJI_0121.JPG', 'DJI_0122.JPG', 'DJI_0123.JPG', 'DJI_0124.JPG', 'DJI_0125.JPG', 'DJI_0126.JPG', 'DJI_0127.JPG', 'DJI_0128.JPG', 'DJI_0129.JPG']\n"
     ]
    }
   ],
   "source": [
    "import os\n",
    "import re\n",
    "\n",
    "# Folder containing images\n",
    "image_folder = r\"C:\\Users\\felix\\Documents\\MT_Data\\results\\zone10_market\\inpainted\"\n",
    "\n",
    "def find_missing_images(folder):\n",
    "    # Regex pattern to match filenames like DJI_XXXX, ignoring extra suffixes\n",
    "    pattern = re.compile(r\"DJI_(\\d{4})\", re.IGNORECASE)\n",
    "    \n",
    "    # Extract numbers from filenames\n",
    "    numbers = []\n",
    "    for filename in os.listdir(folder):\n",
    "        match = pattern.match(filename)\n",
    "        if match:\n",
    "            numbers.append(int(match.group(1)))  # Extract XXXX as an integer\n",
    "\n",
    "    if not numbers:\n",
    "        print(\"❌ No matching images found.\")\n",
    "        return\n",
    "    \n",
    "    # Find the first and last number\n",
    "    numbers.sort()\n",
    "    first, last = numbers[0], numbers[-1]\n",
    "    \n",
    "    # Find missing numbers in sequence\n",
    "    missing_numbers = [num for num in range(first, last + 1) if num not in numbers]\n",
    "\n",
    "    if missing_numbers:\n",
    "        print(f\"❌ Missing image numbers: {missing_numbers}\")\n",
    "        missing_filenames = [f\"DJI_{num:04d}.JPG\" for num in missing_numbers]\n",
    "        print(f\"📂 Expected missing files: {missing_filenames}\")\n",
    "    else:\n",
    "        print(\"✅ No missing images found. All numbers are consecutive.\")\n",
    "\n",
    "# Run the check\n",
    "find_missing_images(image_folder)\n",
    "\n"
   ]
  }
 ],
 "metadata": {
  "kernelspec": {
   "display_name": "p310env",
   "language": "python",
   "name": "python3"
  },
  "language_info": {
   "codemirror_mode": {
    "name": "ipython",
    "version": 3
   },
   "file_extension": ".py",
   "mimetype": "text/x-python",
   "name": "python",
   "nbconvert_exporter": "python",
   "pygments_lexer": "ipython3",
   "version": "3.10.16"
  }
 },
 "nbformat": 4,
 "nbformat_minor": 2
}
